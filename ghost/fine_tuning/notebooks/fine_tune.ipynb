{
 "cells": [
  {
   "cell_type": "code",
   "execution_count": null,
   "id": "6d2433b0-94be-4818-81da-9371fc469fb8",
   "metadata": {},
   "outputs": [],
   "source": [
    "import os\n",
    "\n",
    "os.chdir(\"../..\")"
   ]
  },
  {
   "cell_type": "code",
   "execution_count": null,
   "id": "f5a8d0de-0e62-4865-a8b5-08320fd9296c",
   "metadata": {},
   "outputs": [],
   "source": [
    "from typing import List\n",
    "\n",
    "from fine_tuning.sampling_utils import dump_jsonl, load_jsonl"
   ]
  },
  {
   "cell_type": "code",
   "execution_count": null,
   "id": "6f970a5f-1ece-458f-8371-9afcab875745",
   "metadata": {},
   "outputs": [],
   "source": [
    "openai.api_key = \"\""
   ]
  },
  {
   "cell_type": "code",
   "execution_count": null,
   "id": "b711a603-741b-46f0-9e13-cf9087bbb93e",
   "metadata": {},
   "outputs": [],
   "source": [
    "input_paths = [\n",
    "    \"/path/to/contact_1/train_data.jsonl\",\n",
    "    \"/path/to/contact_2/train_data.jsonl\",\n",
    "]\n",
    "\n",
    "output_path = \"/path/to/train_data.jsonl\""
   ]
  },
  {
   "cell_type": "code",
   "execution_count": null,
   "id": "391e58de-dd80-4d35-a2b7-b31a1eae4cb3",
   "metadata": {},
   "outputs": [],
   "source": [
    "# Collect train records from each contact into a single file.\n",
    "\n",
    "train_records = []\n",
    "for input_path in input_paths:\n",
    "    train_records.extend(load_jsonl(input_path))\n",
    "\n",
    "dump_jsonl(train_records, output_path)"
   ]
  },
  {
   "cell_type": "code",
   "execution_count": null,
   "id": "8c79310e-a166-4747-b5b7-c15fd77cf17b",
   "metadata": {},
   "outputs": [],
   "source": [
    "# Preprocess training records, producing a new .jsonl file train_data_prepared.jsonl.\n",
    "!openai tools fine_tunes.prepare_data -f /path/to/train_data.jsonl -q"
   ]
  },
  {
   "cell_type": "code",
   "execution_count": null,
   "id": "b8cf57fe-123f-4dfb-b4bd-7a29e2203b29",
   "metadata": {},
   "outputs": [],
   "source": [
    "# Train model\n",
    "!openai api fine_tunes.create -t /path/to/train_data_prepared.jsonl -m ada --n_epochs 2 --learning_rate_multiplier 0.05"
   ]
  }
 ],
 "metadata": {
  "kernelspec": {
   "display_name": "Python 3 (ipykernel)",
   "language": "python",
   "name": "python3"
  },
  "language_info": {
   "codemirror_mode": {
    "name": "ipython",
    "version": 3
   },
   "file_extension": ".py",
   "mimetype": "text/x-python",
   "name": "python",
   "nbconvert_exporter": "python",
   "pygments_lexer": "ipython3",
   "version": "3.9.12"
  }
 },
 "nbformat": 4,
 "nbformat_minor": 5
}
