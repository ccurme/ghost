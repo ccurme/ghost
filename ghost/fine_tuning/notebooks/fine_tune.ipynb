{
 "cells": [
  {
   "cell_type": "code",
   "execution_count": null,
   "id": "c09aaf61-20c5-4df8-bb6f-be5dcf810de3",
   "metadata": {},
   "outputs": [],
   "source": [
    "import os\n",
    "from typing import List\n",
    "\n",
    "import openai\n",
    "\n",
    "from fine_tuning.sampling_utils import dump_jsonl, load_jsonl"
   ]
  },
  {
   "cell_type": "code",
   "execution_count": null,
   "id": "fb538716-9810-4987-808a-2d4d5ccc6215",
   "metadata": {},
   "outputs": [],
   "source": [
    "openai.api_key = \"\""
   ]
  },
  {
   "cell_type": "code",
   "execution_count": null,
   "id": "f34e29cb-5018-4135-af56-6c76a3a8467f",
   "metadata": {},
   "outputs": [],
   "source": [
    "input_paths = [\n",
    "    \"/path/to/contact_1/records.jsonl\",\n",
    "    \"/path/to/contact_2/records.jsonl\",\n",
    "]\n",
    "\n",
    "output_path = \"/path/to/train_data.jsonl\""
   ]
  },
  {
   "cell_type": "code",
   "execution_count": null,
   "id": "86e61d86-9e24-4fe5-a849-c1710281cc81",
   "metadata": {},
   "outputs": [],
   "source": [
    "# Collect train records from each contact into a single file.\n",
    "\n",
    "train_records = []\n",
    "for input_path in input_paths:\n",
    "    train_records.extend(load_jsonl(input_path))\n",
    "\n",
    "dump_jsonl(train_records, output_path)"
   ]
  },
  {
   "cell_type": "code",
   "execution_count": null,
   "id": "431d4f9d-9b25-49cd-9d54-c6c448ad8643",
   "metadata": {},
   "outputs": [],
   "source": [
    "# Preprocess training records, producing a new .jsonl file train_data_prepared.jsonl.\n",
    "!openai tools fine_tunes.prepare_data -f /path/to/train_data.jsonl -q"
   ]
  },
  {
   "cell_type": "code",
   "execution_count": null,
   "id": "8c959247-b603-4543-988f-8a56759ca5b1",
   "metadata": {},
   "outputs": [],
   "source": [
    "!openai api fine_tunes.create -t /path/to/train_data_prepared.jsonl -m ada --n_epochs 2 --learning_rate_multiplier 0.05"
   ]
  }
 ],
 "metadata": {
  "kernelspec": {
   "display_name": "Python 3 (ipykernel)",
   "language": "python",
   "name": "python3"
  },
  "language_info": {
   "codemirror_mode": {
    "name": "ipython",
    "version": 3
   },
   "file_extension": ".py",
   "mimetype": "text/x-python",
   "name": "python",
   "nbconvert_exporter": "python",
   "pygments_lexer": "ipython3",
   "version": "3.9.12"
  }
 },
 "nbformat": 4,
 "nbformat_minor": 5
}
