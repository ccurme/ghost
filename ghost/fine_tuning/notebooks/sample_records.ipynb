{
 "cells": [
  {
   "cell_type": "code",
   "execution_count": 1,
   "id": "5ed86227",
   "metadata": {},
   "outputs": [],
   "source": [
    "import os\n",
    "\n",
    "# Override CONTACTS_PATH and PROMPT_PREFIX_PATH if needed\n",
    "# (defaults to settings/contacts.json and settings/prompt_prefix.md\n",
    "os.environ[\"CONTACTS_PATH\"] = \"/path/to/contacts.json\"\n",
    "os.environ[\"PROMPT_PREFIX_PATH\"] = \"/path/to/prompt_prefix.md\""
   ]
  },
  {
   "cell_type": "code",
   "execution_count": 2,
   "id": "bd6ac6ad",
   "metadata": {},
   "outputs": [],
   "source": [
    "os.chdir(\"../..\")"
   ]
  },
  {
   "cell_type": "code",
   "execution_count": 3,
   "id": "cdc0ab31",
   "metadata": {},
   "outputs": [],
   "source": [
    "from fine_tuning.sample_records import main"
   ]
  },
  {
   "cell_type": "code",
   "execution_count": 4,
   "id": "915c0711",
   "metadata": {},
   "outputs": [],
   "source": [
    "path_to_sqlite_db = \"/path/to/3d0d7e5fb2ce288813306e4d4636395e047a3d28\"\n",
    "contact_number = \"+18001234567\"\n",
    "path_to_output_records = \"/path/to/output/records.jsonl\"\n",
    "path_to_output_train_data =\"/path/to/output/training_data.jsonl\""
   ]
  },
  {
   "cell_type": "code",
   "execution_count": null,
   "id": "de4049a0",
   "metadata": {},
   "outputs": [],
   "source": [
    "main(\n",
    "    path_to_sqlite_db,\n",
    "    contact_number,\n",
    "    path_to_output_records,\n",
    "    path_to_output_train_data,\n",
    ")"
   ]
  }
 ],
 "metadata": {
  "kernelspec": {
   "display_name": "Python 3 (ipykernel)",
   "language": "python",
   "name": "python3"
  },
  "language_info": {
   "codemirror_mode": {
    "name": "ipython",
    "version": 3
   },
   "file_extension": ".py",
   "mimetype": "text/x-python",
   "name": "python",
   "nbconvert_exporter": "python",
   "pygments_lexer": "ipython3",
   "version": "3.9.12"
  }
 },
 "nbformat": 4,
 "nbformat_minor": 5
}
